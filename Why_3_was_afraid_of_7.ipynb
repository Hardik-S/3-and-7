{
  "nbformat": 4,
  "nbformat_minor": 0,
  "metadata": {
    "colab": {
      "name": "Why 3 was afraid of 7.ipynb",
      "provenance": [],
      "collapsed_sections": [],
      "authorship_tag": "ABX9TyPtG1nAHA+zwmQcXUM7lPWK",
      "include_colab_link": true
    },
    "kernelspec": {
      "name": "python3",
      "display_name": "Python 3"
    },
    "accelerator": "GPU"
  },
  "cells": [
    {
      "cell_type": "markdown",
      "metadata": {
        "id": "view-in-github",
        "colab_type": "text"
      },
      "source": [
        "<a href=\"https://colab.research.google.com/github/Hardik-S/3-and-7/blob/master/Why_3_was_afraid_of_7.ipynb\" target=\"_parent\"><img src=\"https://colab.research.google.com/assets/colab-badge.svg\" alt=\"Open In Colab\"/></a>"
      ]
    },
    {
      "cell_type": "markdown",
      "metadata": {
        "id": "P4uBe-KPLMcN",
        "colab_type": "text"
      },
      "source": [
        "#Why 3 was afraid of 7.\n",
        "###This program is built to differentiate between 3s and 7s using resnet18."
      ]
    },
    {
      "cell_type": "code",
      "metadata": {
        "id": "tU5pk5L7EH0V",
        "colab_type": "code",
        "colab": {}
      },
      "source": [
        "%reload_ext autoreload\n",
        "%autoreload 2\n",
        "%matplotlib inline"
      ],
      "execution_count": 0,
      "outputs": []
    },
    {
      "cell_type": "code",
      "metadata": {
        "id": "ChA2LcF-DXmN",
        "colab_type": "code",
        "colab": {}
      },
      "source": [
        "from fastai.vision import *\n",
        "from fastai.metrics import error_rate"
      ],
      "execution_count": 0,
      "outputs": []
    },
    {
      "cell_type": "code",
      "metadata": {
        "id": "UU2poyseEJuS",
        "colab_type": "code",
        "colab": {}
      },
      "source": [
        "bs = 64 # set batch size = 64"
      ],
      "execution_count": 0,
      "outputs": []
    },
    {
      "cell_type": "code",
      "metadata": {
        "id": "aC16rAJHDsEb",
        "colab_type": "code",
        "colab": {
          "base_uri": "https://localhost:8080/",
          "height": 35
        },
        "outputId": "94746297-4e74-45cd-80bc-95f973c8b0b3"
      },
      "source": [
        "path = untar_data(\"http://files.fast.ai/data/examples/mnist_sample\"); path"
      ],
      "execution_count": 76,
      "outputs": [
        {
          "output_type": "execute_result",
          "data": {
            "text/plain": [
              "PosixPath('/root/.fastai/data/mnist_sample')"
            ]
          },
          "metadata": {
            "tags": []
          },
          "execution_count": 76
        }
      ]
    },
    {
      "cell_type": "code",
      "metadata": {
        "id": "pg0ZxB22ETNK",
        "colab_type": "code",
        "colab": {}
      },
      "source": [
        "path_labels = path/'labels'\n",
        "path_train = path/'train'\n",
        "path_valid = path/'valid'"
      ],
      "execution_count": 0,
      "outputs": []
    },
    {
      "cell_type": "code",
      "metadata": {
        "id": "wEdU3Ao-ExXV",
        "colab_type": "code",
        "colab": {}
      },
      "source": [
        "transformations = get_transforms(do_flip=False)\n",
        "data = ImageDataBunch.from_folder(path, ds_tfms = transformations, size = 26 )"
      ],
      "execution_count": 0,
      "outputs": []
    },
    {
      "cell_type": "code",
      "metadata": {
        "id": "Nw9TezfHFBnm",
        "colab_type": "code",
        "colab": {
          "base_uri": "https://localhost:8080/",
          "height": 369
        },
        "outputId": "f0b7e49f-9ead-4019-f0e2-cd27b58131d9"
      },
      "source": [
        "data.show_batch(rows=2, coloumns=2, figsize=(5,5))"
      ],
      "execution_count": 79,
      "outputs": [
        {
          "output_type": "display_data",
          "data": {
            "image/png": "[encoded data removed]",
            "text/plain": [
              "<Figure size 360x360 with 4 Axes>"
            ]
          },
          "metadata": {
            "tags": []
          }
        }
      ]
    },
    {
      "cell_type": "code",
      "metadata": {
        "id": "l2xPG2FrIKaK",
        "colab_type": "code",
        "colab": {
          "base_uri": "https://localhost:8080/",
          "height": 226
        },
        "outputId": "867512c3-f4b3-4dd5-e304-6a07d04223b3"
      },
      "source": [
        "doc(cnn_learner)"
      ],
      "execution_count": 80,
      "outputs": [
        {
          "output_type": "display_data",
          "data": {
            "text/html": [
              "<h4 id=\"cnn_learner\" class=\"doc_header\"><code>cnn_learner</code><a href=\"https://github.com/fastai/fastai/blob/master/fastai/vision/learner.py#L91\" class=\"source_link\" style=\"float:right\">[source]</a><a class=\"source_link\" data-toggle=\"collapse\" data-target=\"#cnn_learner-pytest\" style=\"float:right; padding-right:10px\">[test]</a></h4><blockquote><p><code>cnn_learner</code>(<strong><code>data</code></strong>:<a href=\"https://docs.fast.ai/basic_data.html#DataBunch\"><code>DataBunch</code></a>, <strong><code>base_arch</code></strong>:<code>Callable</code>, <strong><code>cut</code></strong>:<code>Union</code>[<code>int</code>, <code>Callable</code>]=<strong><em><code>None</code></em></strong>, <strong><code>pretrained</code></strong>:<code>bool</code>=<strong><em><code>True</code></em></strong>, <strong><code>lin_ftrs</code></strong>:<code>Optional</code>[<code>Collection</code>[<code>int</code>]]=<strong><em><code>None</code></em></strong>, <strong><code>ps</code></strong>:<code>Floats</code>=<strong><em><code>0.5</code></em></strong>, <strong><code>custom_head</code></strong>:<code>Optional</code>[<a href=\"https://pytorch.org/docs/stable/nn.html#torch.nn.Module\"><code>Module</code></a>]=<strong><em><code>None</code></em></strong>, <strong><code>split_on</code></strong>:<code>Union</code>[<code>Callable</code>, <code>Collection</code>[<code>ModuleList</code>], <code>NoneType</code>]=<strong><em><code>None</code></em></strong>, <strong><code>bn_final</code></strong>:<code>bool</code>=<strong><em><code>False</code></em></strong>, <strong><code>init</code></strong>=<strong><em><code>'kaiming_normal_'</code></em></strong>, <strong><code>concat_pool</code></strong>:<code>bool</code>=<strong><em><code>True</code></em></strong>, <strong>**<code>kwargs</code></strong>:<code>Any</code>) → <a href=\"https://docs.fast.ai/basic_train.html#Learner\"><code>Learner</code></a></p>\n",
              "</blockquote>\n",
              "<div class=\"collapse\" id=\"cnn_learner-pytest\"><div class=\"card card-body pytest_card\"><a type=\"button\" data-toggle=\"collapse\" data-target=\"#cnn_learner-pytest\" class=\"close\" aria-label=\"Close\"><span aria-hidden=\"true\">&times;</span></a><p>No tests found for <code>cnn_learner</code>. To contribute a test please refer to <a href=\"/dev/test.html\">this guide</a> and <a href=\"https://forums.fast.ai/t/improving-expanding-functional-tests/32929\">this discussion</a>.</p></div></div><p>Build convnet style learner.</p>\n",
              "<p><a href=\"https://docs.fast.ai/vision.learner.html#cnn_learner\" target=\"_blank\" rel=\"noreferrer noopener\">Show in docs</a></p>\n"
            ],
            "text/plain": [
              "<IPython.core.display.HTML object>"
            ]
          },
          "metadata": {
            "tags": []
          }
        }
      ]
    },
    {
      "cell_type": "code",
      "metadata": {
        "id": "Gqep8DxVFmCk",
        "colab_type": "code",
        "colab": {}
      },
      "source": [
        "learner = cnn_learner(data, models.resnet18, metrics=[accuracy,error_rate])\n"
      ],
      "execution_count": 0,
      "outputs": []
    },
    {
      "cell_type": "code",
      "metadata": {
        "id": "l5CvbRmBF02L",
        "colab_type": "code",
        "colab": {
          "base_uri": "https://localhost:8080/",
          "height": 141
        },
        "outputId": "d61a5602-a9ca-4a6c-c01f-da439ae2dd41"
      },
      "source": [
        "myEpochs = 3\n",
        "learner.fit(myEpochs)"
      ],
      "execution_count": 82,
      "outputs": [
        {
          "output_type": "display_data",
          "data": {
            "text/html": [
              "<table border=\"1\" class=\"dataframe\">\n",
              "  <thead>\n",
              "    <tr style=\"text-align: left;\">\n",
              "      <th>epoch</th>\n",
              "      <th>train_loss</th>\n",
              "      <th>valid_loss</th>\n",
              "      <th>accuracy</th>\n",
              "      <th>error_rate</th>\n",
              "      <th>time</th>\n",
              "    </tr>\n",
              "  </thead>\n",
              "  <tbody>\n",
              "    <tr>\n",
              "      <td>0</td>\n",
              "      <td>0.204487</td>\n",
              "      <td>0.101724</td>\n",
              "      <td>0.961727</td>\n",
              "      <td>0.038273</td>\n",
              "      <td>00:15</td>\n",
              "    </tr>\n",
              "    <tr>\n",
              "      <td>1</td>\n",
              "      <td>0.114447</td>\n",
              "      <td>0.054208</td>\n",
              "      <td>0.984298</td>\n",
              "      <td>0.015702</td>\n",
              "      <td>00:16</td>\n",
              "    </tr>\n",
              "    <tr>\n",
              "      <td>2</td>\n",
              "      <td>0.094915</td>\n",
              "      <td>0.037037</td>\n",
              "      <td>0.989696</td>\n",
              "      <td>0.010304</td>\n",
              "      <td>00:16</td>\n",
              "    </tr>\n",
              "  </tbody>\n",
              "</table>"
            ],
            "text/plain": [
              "<IPython.core.display.HTML object>"
            ]
          },
          "metadata": {
            "tags": []
          }
        }
      ]
    },
    {
      "cell_type": "code",
      "metadata": {
        "id": "ENiXJ6hgH1ad",
        "colab_type": "code",
        "colab": {
          "base_uri": "https://localhost:8080/",
          "height": 141
        },
        "outputId": "932340cb-a7ee-455f-da23-d4e7ad85c4ac"
      },
      "source": [
        "learner.fit_one_cycle(myEpochs)"
      ],
      "execution_count": 83,
      "outputs": [
        {
          "output_type": "display_data",
          "data": {
            "text/html": [
              "<table border=\"1\" class=\"dataframe\">\n",
              "  <thead>\n",
              "    <tr style=\"text-align: left;\">\n",
              "      <th>epoch</th>\n",
              "      <th>train_loss</th>\n",
              "      <th>valid_loss</th>\n",
              "      <th>accuracy</th>\n",
              "      <th>error_rate</th>\n",
              "      <th>time</th>\n",
              "    </tr>\n",
              "  </thead>\n",
              "  <tbody>\n",
              "    <tr>\n",
              "      <td>0</td>\n",
              "      <td>0.073719</td>\n",
              "      <td>0.031011</td>\n",
              "      <td>0.989205</td>\n",
              "      <td>0.010795</td>\n",
              "      <td>00:16</td>\n",
              "    </tr>\n",
              "    <tr>\n",
              "      <td>1</td>\n",
              "      <td>0.064688</td>\n",
              "      <td>0.023512</td>\n",
              "      <td>0.991659</td>\n",
              "      <td>0.008342</td>\n",
              "      <td>00:16</td>\n",
              "    </tr>\n",
              "    <tr>\n",
              "      <td>2</td>\n",
              "      <td>0.057330</td>\n",
              "      <td>0.024340</td>\n",
              "      <td>0.993131</td>\n",
              "      <td>0.006869</td>\n",
              "      <td>00:16</td>\n",
              "    </tr>\n",
              "  </tbody>\n",
              "</table>"
            ],
            "text/plain": [
              "<IPython.core.display.HTML object>"
            ]
          },
          "metadata": {
            "tags": []
          }
        }
      ]
    },
    {
      "cell_type": "code",
      "metadata": {
        "id": "oUnVHj8nJJdq",
        "colab_type": "code",
        "colab": {}
      },
      "source": [
        "learner.save('trial-1')"
      ],
      "execution_count": 0,
      "outputs": []
    },
    {
      "cell_type": "markdown",
      "metadata": {
        "id": "H3ePiyuzLEPi",
        "colab_type": "text"
      },
      "source": [
        "##Further Possible Refinement"
      ]
    },
    {
      "cell_type": "code",
      "metadata": {
        "id": "nmuKhcBeJf_C",
        "colab_type": "code",
        "colab": {
          "base_uri": "https://localhost:8080/",
          "height": 35
        },
        "outputId": "60c4dddc-c8c7-47f9-8620-36d7dccce37c"
      },
      "source": [
        "interp = ClassificationInterpretation.from_learner(learner)\n",
        "\n",
        "losses,idxs = interp.top_losses()\n",
        "\n",
        "len(data.valid_ds)==len(losses)==len(idxs)"
      ],
      "execution_count": 85,
      "outputs": [
        {
          "output_type": "display_data",
          "data": {
            "text/html": [
              ""
            ],
            "text/plain": [
              "<IPython.core.display.HTML object>"
            ]
          },
          "metadata": {
            "tags": []
          }
        },
        {
          "output_type": "execute_result",
          "data": {
            "text/plain": [
              "True"
            ]
          },
          "metadata": {
            "tags": []
          },
          "execution_count": 85
        }
      ]
    },
    {
      "cell_type": "code",
      "metadata": {
        "id": "oKzplP6OJlMu",
        "colab_type": "code",
        "colab": {
          "base_uri": "https://localhost:8080/",
          "height": 708
        },
        "outputId": "5e1e5eee-d790-4160-f93c-144ced43c9e8"
      },
      "source": [
        "interp.plot_top_losses(9, figsize=(15,11))"
      ],
      "execution_count": 86,
      "outputs": [
        {
          "output_type": "display_data",
          "data": {
            "image/png": "[encoded data removed]",
            "text/plain": [
              "<Figure size 1080x792 with 9 Axes>"
            ]
          },
          "metadata": {
            "tags": []
          }
        }
      ]
    },
    {
      "cell_type": "markdown",
      "metadata": {
        "id": "_c-oqh2yLiMt",
        "colab_type": "text"
      },
      "source": [
        "These were the worst losses of the data set where the algorithm predicted incorrectly. Format is (predicted, actual, predicted probability, actual probability)"
      ]
    },
    {
      "cell_type": "code",
      "metadata": {
        "id": "VEOio3dvJ-K-",
        "colab_type": "code",
        "colab": {
          "base_uri": "https://localhost:8080/",
          "height": 509
        },
        "outputId": "9563000a-5463-4255-ef03-37d59158ebc4"
      },
      "source": [
        "interp.plot_confusion_matrix(figsize=(4,4), dpi=120)"
      ],
      "execution_count": 87,
      "outputs": [
        {
          "output_type": "display_data",
          "data": {
            "image/png": "[encoded data removed]",
            "text/plain": [
              "<Figure size 480x480 with 1 Axes>"
            ]
          },
          "metadata": {
            "tags": []
          }
        }
      ]
    },
    {
      "cell_type": "markdown",
      "metadata": {
        "id": "z2A218dGLwN1",
        "colab_type": "text"
      },
      "source": [
        "7s were predicted incorrectly more often than 3s."
      ]
    },
    {
      "cell_type": "code",
      "metadata": {
        "id": "VJPr0BXoKPVz",
        "colab_type": "code",
        "colab": {
          "base_uri": "https://localhost:8080/",
          "height": 112
        },
        "outputId": "439cfc86-78be-4186-edbe-c08bb3d73337"
      },
      "source": [
        "learner.lr_find()"
      ],
      "execution_count": 88,
      "outputs": [
        {
          "output_type": "display_data",
          "data": {
            "text/html": [
              "\n",
              "    <div>\n",
              "        <style>\n",
              "            /* Turns off some styling */\n",
              "            progress {\n",
              "                /* gets rid of default border in Firefox and Opera. */\n",
              "                border: none;\n",
              "                /* Needs to be in here for Safari polyfill so background images work as expected. */\n",
              "                background-size: auto;\n",
              "            }\n",
              "            .progress-bar-interrupted, .progress-bar-interrupted::-webkit-progress-bar {\n",
              "                background: #F44336;\n",
              "            }\n",
              "        </style>\n",
              "      <progress value='0' class='' max='1', style='width:300px; height:20px; vertical-align: middle;'></progress>\n",
              "      0.00% [0/1 00:00<00:00]\n",
              "    </div>\n",
              "    \n",
              "<table border=\"1\" class=\"dataframe\">\n",
              "  <thead>\n",
              "    <tr style=\"text-align: left;\">\n",
              "      <th>epoch</th>\n",
              "      <th>train_loss</th>\n",
              "      <th>valid_loss</th>\n",
              "      <th>accuracy</th>\n",
              "      <th>error_rate</th>\n",
              "      <th>time</th>\n",
              "    </tr>\n",
              "  </thead>\n",
              "  <tbody>\n",
              "  </tbody>\n",
              "</table><p>\n",
              "\n",
              "    <div>\n",
              "        <style>\n",
              "            /* Turns off some styling */\n",
              "            progress {\n",
              "                /* gets rid of default border in Firefox and Opera. */\n",
              "                border: none;\n",
              "                /* Needs to be in here for Safari polyfill so background images work as expected. */\n",
              "                background-size: auto;\n",
              "            }\n",
              "            .progress-bar-interrupted, .progress-bar-interrupted::-webkit-progress-bar {\n",
              "                background: #F44336;\n",
              "            }\n",
              "        </style>\n",
              "      <progress value='2' class='' max='193', style='width:300px; height:20px; vertical-align: middle;'></progress>\n",
              "      1.04% [2/193 00:00<00:28 0.0264]\n",
              "    </div>\n",
              "    "
            ],
            "text/plain": [
              "<IPython.core.display.HTML object>"
            ]
          },
          "metadata": {
            "tags": []
          }
        },
        {
          "output_type": "stream",
          "text": [
            "LR Finder is complete, type {learner_name}.recorder.plot() to see the graph.\n"
          ],
          "name": "stdout"
        }
      ]
    },
    {
      "cell_type": "code",
      "metadata": {
        "id": "Sg23PWR8KS0j",
        "colab_type": "code",
        "colab": {
          "base_uri": "https://localhost:8080/",
          "height": 279
        },
        "outputId": "56793b43-dbff-4a67-f396-78ef54abe69c"
      },
      "source": [
        "learner.recorder.plot()"
      ],
      "execution_count": 89,
      "outputs": [
        {
          "output_type": "display_data",
          "data": {
            "image/png": "[encoded data removed]",
            "text/plain": [
              "<Figure size 432x288 with 1 Axes>"
            ]
          },
          "metadata": {
            "tags": []
          }
        }
      ]
    },
    {
      "cell_type": "markdown",
      "metadata": {
        "id": "tq4l4_uhKcrd",
        "colab_type": "text"
      },
      "source": [
        "From this, we can see that there isn't really a large enough \"non-fingerprint\" area to further refine the algorithm from, 1e-05 seems to be the most stable, however, considering that the data already achieved less than a 5% error rate, this project is considered done here."
      ]
    },
    {
      "cell_type": "markdown",
      "metadata": {
        "id": "MztXmlG6K7I_",
        "colab_type": "text"
      },
      "source": [
        "##Results"
      ]
    },
    {
      "cell_type": "code",
      "metadata": {
        "id": "jNihR_ckGCF5",
        "colab_type": "code",
        "colab": {}
      },
      "source": [
        "data = ImageDataBunch.from_csv(path, ds_tfms = transformations, size = 28)"
      ],
      "execution_count": 0,
      "outputs": []
    },
    {
      "cell_type": "code",
      "metadata": {
        "id": "EBP0UgiTGIQf",
        "colab_type": "code",
        "colab": {
          "base_uri": "https://localhost:8080/",
          "height": 369
        },
        "outputId": "ded2d8ec-b25e-4ffd-8581-b180fe697307"
      },
      "source": [
        "data.show_batch(rows=4, coloumns=4, figsize=(5,5))"
      ],
      "execution_count": 91,
      "outputs": [
        {
          "output_type": "display_data",
          "data": {
            "image/png": "[encoded data removed]",
            "text/plain": [
              "<Figure size 360x360 with 16 Axes>"
            ]
          },
          "metadata": {
            "tags": []
          }
        }
      ]
    }
  ]
}